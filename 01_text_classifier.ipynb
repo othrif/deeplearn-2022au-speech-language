{
 "cells": [
  {
   "cell_type": "code",
   "execution_count": 3,
   "id": "9d2eae79-de3c-4b5b-ab38-9dcb6c914a3a",
   "metadata": {},
   "outputs": [],
   "source": [
    "# Uncomment and run this cell if you're on Colab or Kaggle\n",
    "# !git clone https://github.com/othrif/deeplearn-2022au-speech-language.git\n",
    "# %cd notebooks\n",
    "# from utils import *\n",
    "# install_requirements()"
   ]
  },
  {
   "cell_type": "code",
   "execution_count": 4,
   "id": "a49f2390-6882-408d-8f36-f729dcb3706d",
   "metadata": {},
   "outputs": [
    {
     "name": "stdout",
     "output_type": "stream",
     "text": [
      "No GPU was detected! This notebook can be *very* slow without a GPU\n",
      "Using transformers v4.11.3\n",
      "Using datasets v1.16.1\n"
     ]
    }
   ],
   "source": [
    "from utils import *\n",
    "setup_notebooks()"
   ]
  },
  {
   "cell_type": "code",
   "execution_count": null,
   "id": "a8f2539f-896f-4aae-a9e9-f7f56b0e13b7",
   "metadata": {},
   "outputs": [],
   "source": []
  }
 ],
 "metadata": {
  "kernelspec": {
   "display_name": "Python 3 (ipykernel)",
   "language": "python",
   "name": "python3"
  },
  "language_info": {
   "codemirror_mode": {
    "name": "ipython",
    "version": 3
   },
   "file_extension": ".py",
   "mimetype": "text/x-python",
   "name": "python",
   "nbconvert_exporter": "python",
   "pygments_lexer": "ipython3",
   "version": "3.9.13"
  }
 },
 "nbformat": 4,
 "nbformat_minor": 5
}
